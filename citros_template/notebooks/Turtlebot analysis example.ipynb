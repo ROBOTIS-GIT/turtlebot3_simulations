{
    "cells": [
        {
            "cell_type": "markdown",
            "id": "99ef47b13e29d92d8bd84a4f36a584a2",
            "metadata": {},
            "source": [
                "```bash\n",
                "==============================================\n",
                "   ██████╗██╗████████╗██████╗  ██████╗ ███████╗\n",
                "  ██╔════╝██║╚══██╔══╝██╔══██╗██╔═══██╗██╔════╝\n",
                "  ██║     ██║   ██║   ██████╔╝██║   ██║███████╗\n",
                "  ██║     ██║   ██║   ██╔══██╗██║   ██║╚════██║\n",
                "  ╚██████╗██║   ██║   ██║  ██║╚██████╔╝███████║\n",
                "   ╚═════╝╚═╝   ╚═╝   ╚═╝  ╚═╝ ╚═════╝ ╚══════╝                                        \n",
                " ==============================================\n",
                "```"
            ]
        },
        {
            "cell_type": "markdown",
            "id": "e0f7cc10a09ff18569693801fe5d9566",
            "metadata": {},
            "source": [
                "Importing neccessary libs and database:"
            ]
        },
        {
            "cell_type": "code",
            "execution_count": null,
            "id": "95cc3084eb338f6ee9b68209e0b776c2",
            "metadata": {
                "execution": {
                    "iopub.execute_input": 354
                }
            },
            "outputs": [],
            "source": [
                "import numpy as np\n",
                "import matplotlib.pyplot as plt\n",
                "from citros_data_analysis import data_access as da\n",
                "from prettytable import PrettyTable, ALL\n",
                "import json\n",
                "from platform import python_version"
            ]
        },
        {
            "cell_type": "markdown",
            "id": "66a2168fd5d10998dc3c86321ce92441",
            "metadata": {},
            "source": [
                "Importing Batch ID:"
            ]
        },
        {
            "cell_type": "code",
            "execution_count": null,
            "id": "1ecb08351c79dfca862bfbc0ce315bab",
            "metadata": {
                "execution": {
                    "iopub.execute_input": 302
                }
            },
            "outputs": [],
            "source": [
                "citros = da.CitrosDB(batch = 'abe7fbda-a409-456a-93c8-20d44b9ee3a0')"
            ]
        },
        {
            "cell_type": "markdown",
            "id": "628e9c6221a1e0e197b9b394c794b066",
            "metadata": {},
            "source": [
                "Getting simulation info:"
            ]
        },
        {
            "cell_type": "code",
            "execution_count": null,
            "id": "7f125a122811a1cb10d7143dfb5b339d",
            "metadata": {
                "execution": {
                    "iopub.execute_input": 1523
                }
            },
            "outputs": [],
            "source": [
                "#To get general information about the batch, execute citros.info(). \n",
                "#It returns dictionary, that contains:\n",
                "#   'size': size of the selected data\n",
                "#   'sid_count': number of sids\n",
                "#   'sid_list': list of the sids\n",
                "#   'topic_count': number of topics\n",
                "#   'topic_list': list of topics\n",
                "#   'message_count': number of messages\n",
                "citros.info()\n",
                "\n",
                "#The result is a CitrosDict object, that inherits behaviour of a dict.\n",
                "#CitrosDict object can be converted to json string :\n",
                "citros.info().to_json()\n",
                "#or printed by function print():\n",
                "citros.info().print()"
            ]
        },
        {
            "cell_type": "markdown",
            "id": "4f6bee7dcfc0dd9e8cbf97dccabcc773",
            "metadata": {},
            "source": [
                "Printing topics info:"
            ]
        },
        {
            "cell_type": "code",
            "execution_count": null,
            "id": "b25f71b6a135a71451db4b0969679282",
            "metadata": {
                "execution": {
                    "iopub.execute_input": 613
                }
            },
            "outputs": [],
            "source": [
                "citros.sid([0]).info().print()"
            ]
        },
        {
            "cell_type": "markdown",
            "id": "8f95a4cb090764e8231f3e52dfd91c05",
            "metadata": {},
            "source": [
                "Getting data structure of one of the topics:"
            ]
        },
        {
            "cell_type": "code",
            "execution_count": null,
            "id": "541e4d9b4a0d62180e749c0cef4bfd37",
            "metadata": {
                "execution": {
                    "iopub.execute_input": 1056
                }
            },
            "outputs": [],
            "source": [
                "citros.topic('/scan').sid(0).info().print()"
            ]
        },
        {
            "cell_type": "markdown",
            "id": "3b93ea0bfe71cdf70c967b186e963cfc",
            "metadata": {},
            "source": [
                "Printing some position data from `odom` topic:"
            ]
        },
        {
            "cell_type": "code",
            "execution_count": null,
            "id": "c841c2e6d9b21b26c1e121f1f0829f31",
            "metadata": {
                "execution": {
                    "iopub.execute_input": 1176
                }
            },
            "outputs": [],
            "source": [
                "print(citros.topic('/odom').data([\"data.pose.pose.position.x\",\"data.pose.pose.position.y\"]))"
            ]
        },
        {
            "cell_type": "markdown",
            "id": "1aa0326c36261f7b60e8fe6d24be54c2",
            "metadata": {},
            "source": [
                "Simple raw data plots:"
            ]
        },
        {
            "cell_type": "code",
            "execution_count": null,
            "id": "cd4b276be965c50cae9c362d120c88ef",
            "metadata": {
                "execution": {
                    "iopub.execute_input": 7644
                }
            },
            "outputs": [],
            "source": [
                "# Raw position data\n",
                "citros.topic('/odom').data(['data.pose.pose.position.x'])\\\n",
                "      .set_index(['rid','sid']).unstack()['data.pose.pose.position.x'].plot()\n",
                "\n",
                "citros.topic('/odom').data(['data.pose.pose.position.y'])\\\n",
                "      .set_index(['rid','sid']).unstack()['data.pose.pose.position.y'].plot()\n",
                "\n",
                "citros.topic('/cmd_vel').data(['data.linear.z'])\\\n",
                "      .set_index(['rid','sid']).unstack()['data.linear.z'].plot()\n"
            ]
        },
        {
            "cell_type": "markdown",
            "id": "b9f693fd5be3df1a61216ea55abacea2",
            "metadata": {},
            "source": [
                "Plotting xy plots for turtlebot's trajectory:"
            ]
        },
        {
            "cell_type": "code",
            "execution_count": null,
            "id": "efc6e04b4860d3d1d2eee95578bc7569",
            "metadata": {
                "execution": {
                    "iopub.execute_input": 2212
                }
            },
            "outputs": [],
            "source": [
                "#Path and orientation plots\n",
                "\n",
                "#import matplotlib\n",
                "import matplotlib.pyplot as plt\n",
                "\n",
                "#create a figure to plot on\n",
                "fig1, ax1 = plt.subplots()\n",
                "fig2, ax2 = plt.subplots()\n",
                "\n",
                "citros.xy_plot(ax1, \n",
                "               topic_name = '/odom', \n",
                "               var_x_name = 'data.pose.pose.position.x',\n",
                "               var_y_name = 'data.pose.pose.position.y',\n",
                "               sids = [0,1,2], \n",
                "               x_label = 'x, m', y_label = 'y, m', title_text = 'XY path plot for sids ##0-2')\n",
                "\n",
                "citros.xy_plot(ax2, \n",
                "               topic_name = '/odom', \n",
                "               var_x_name = 'data.pose.pose.position.x',\n",
                "               var_y_name = 'data.pose.pose.position.y',\n",
                "               sids = [3,4], \n",
                "               x_label = 'x, m', y_label = 'y, m', title_text = 'XY path plot for sids ##3-4')\n"
            ]
        },
        {
            "cell_type": "markdown",
            "id": "fd0edd8d1cdc97c94a27d815527e1465",
            "metadata": {},
            "source": [
                "Plotting data from `.orientation` variable:"
            ]
        },
        {
            "cell_type": "code",
            "execution_count": null,
            "id": "f16791d32d822ce0eb151ae8b4d16e63",
            "metadata": {
                "execution": {
                    "iopub.execute_input": 1203
                }
            },
            "outputs": [],
            "source": [
                "fig3, ax3 = plt.subplots()\n",
                "citros.xy_plot(ax3, \n",
                "               topic_name = '/odom', \n",
                "               var_x_name = 'data.pose.pose.orientation.x',\n",
                "               var_y_name = 'data.pose.pose.orientation.y',\n",
                "               sids = [0,1], \n",
                "               x_label = 'x', y_label = 'y', title_text = 'XY orientation plot for sids ##0-1')"
            ]
        },
        {
            "cell_type": "markdown",
            "id": "74f3d639c3cd4e6907abe367e4272f29",
            "metadata": {},
            "source": [
                "Plotting data from Inertial measurement unit (IMU):"
            ]
        },
        {
            "cell_type": "code",
            "execution_count": null,
            "id": "3c69850c601a08c570b2d18d4b4986f4",
            "metadata": {
                "execution": {
                    "iopub.execute_input": 6260
                }
            },
            "outputs": [],
            "source": [
                "#import matplotlib\n",
                "import matplotlib.pyplot as plt\n",
                "\n",
                "#create a figure to plot on\n",
                "fig1, ax1 = plt.subplots()\n",
                "fig2, ax2 = plt.subplots()\n",
                "fig3, ax3 = plt.subplots()\n",
                "\n",
                "fig4, ax4 = plt.subplots()\n",
                "fig5, ax5 = plt.subplots()\n",
                "\n",
                "citros.time_plot(ax1, \n",
                "                 topic_name = '/imu', \n",
                "                 var_name = 'data.orientation.w', \n",
                "                 time_step = 0.5, \n",
                "                 sids = [0], \n",
                "                 y_label = 'IMU', title_text = 'IMU_sensor_orientation_w  vs. Time')\n",
                "\n",
                "citros.time_plot(ax2, \n",
                "                 topic_name = '/imu', \n",
                "                 var_name = 'data.orientation.x', \n",
                "                 time_step = 0.5, \n",
                "                 sids = [0], \n",
                "                 y_label = 'IMU', title_text = 'IMU_sensor_orientation_x  vs. Time')\n",
                "\n",
                "citros.time_plot(ax3, \n",
                "                 topic_name = '/imu', \n",
                "                 var_name = 'data.orientation.y', \n",
                "                 time_step = 0.5, \n",
                "                 sids = [0], \n",
                "                 y_label = 'IMU', title_text = 'IMU_sensor_orientation_y  vs. Time')\n",
                "\n",
                "\n",
                "citros.time_plot(ax4, \n",
                "                 topic_name = '/imu', \n",
                "                 var_name = 'data.angular_velocity.x', \n",
                "                 time_step = 0.5, \n",
                "                 sids = [0], \n",
                "                 y_label = 'IMU', title_text = 'IMU_sensor_angular_velocity_x  vs. Time')\n",
                "\n",
                "citros.time_plot(ax5, \n",
                "                 topic_name = '/imu', \n",
                "                 var_name = 'data.angular_velocity.y', \n",
                "                 time_step = 0.5, \n",
                "                 sids = [0], \n",
                "                 y_label = 'IMU', title_text = 'IMU_sensor_angular_velocity_y  vs. Time')"
            ]
        },
        {
            "cell_type": "markdown",
            "id": "0beaf2c472d6c631f2d09895ca972bf1",
            "metadata": {},
            "source": [
                "Correlation between orientation data from Odometer and IMU"
            ]
        },
        {
            "cell_type": "code",
            "execution_count": null,
            "id": "30542a1ce3615c73f6d38db9c2a43c57",
            "metadata": {
                "execution": {
                    "iopub.execute_input": 1613
                }
            },
            "outputs": [],
            "source": [
                "#import matplotlib\n",
                "import matplotlib.pyplot as plt\n",
                "\n",
                "#create a figure to plot on\n",
                "fig1, ax1 = plt.subplots()\n",
                "# fig2, ax2 = plt.subplots()\n",
                "# fig3, ax3 = plt.subplots()\n",
                "\n",
                "# fig4, ax4 = plt.subplots()\n",
                "# fig5, ax5 = plt.subplots()\n",
                "\n",
                "citros.time_plot(ax1, \n",
                "                 topic_name = '/odom', \n",
                "                 var_name = 'data.pose.pose.orientation.x', \n",
                "                 time_step = 3.33, \n",
                "                 sids = [3], \n",
                "                 y_label = 'Odom, IMU', title_text = 'Odom & IMU orientation data correlation vs. Time')\n",
                "\n",
                "citros.time_plot(ax1, \n",
                "                 topic_name = '/imu', \n",
                "                 var_name = 'data.orientation.x', \n",
                "                 time_step = 0.5, \n",
                "                 sids = [3], \n",
                "                 y_label = 'Odom, IMU', title_text = 'Odom & IMU orientation data correlation vs. Time')"
            ]
        },
        {
            "cell_type": "markdown",
            "id": "bb6e27f06d3d191f6f52e6883e9435e3",
            "metadata": {},
            "source": [
                "Let's perform some error analisys!\n",
                "\n",
                "To analyze data of multiple simulations it is necessary to establish a correspondence between the values of the data from these different simulations. One approach is to select an independent variable, define a scale that is common to all simulations and assign indexes on this scale. Then, the values of variables from different simulations will be connected by this independent variable.\n",
                "\n",
                "To visualize statistics show_statistics() function is used. It plots values from data attribute vs. independent parameter for each of the sid, the mean value over all sids and 3\n",
                "σ interval."
            ]
        },
        {
            "cell_type": "code",
            "execution_count": null,
            "id": "5508d32060f211107aefdc299c8efc4d",
            "metadata": {
                "execution": {
                    "iopub.execute_input": 4565
                }
            },
            "outputs": [],
            "source": [
                "from citros_data_analysis import error_analysis as analysis\n",
                "\n",
                "df = citros.topic('/cmd_vel').set_order({'sid': 'asc', 'rid': 'asc'}).data(['data.linear.x', 'data.linear.y','data.linear.z'])\n",
                "df['vel'] = np.sqrt(df['data.linear.x'])\n",
                "df['clock'] = df['rid'] * 0.1\n",
                "\n",
                "dataset = analysis.CitrosData(df, data_label = 'vel', units = 'm')\n",
                "\n",
                "db = dataset.bin_data(n_bins = 50, param_label = 'clock')\n",
                "\n",
                "db.show_statistics()\n"
            ]
        },
        {
            "cell_type": "markdown",
            "id": "d58e5aa865879797bbf4bfe17316a3cb",
            "metadata": {},
            "source": [
                "![Citros logo](https://github.com/citros-garden/.github/blob/main/splash.png?raw=true \"Citros logo\")"
            ]
        }
    ],
    "metadata": {
        "language_info": {
            "name": "python"
        }
    },
    "nbformat": 4,
    "nbformat_minor": 4
}
